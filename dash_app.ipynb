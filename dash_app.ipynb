{
 "cells": [
  {
   "cell_type": "code",
   "execution_count": 1,
   "id": "2057f3f2",
   "metadata": {},
   "outputs": [],
   "source": [
    "import pandas as pd\n",
    "import dash\n",
    "from dash import dcc\n",
    "from dash import html\n",
    "from dash import Input, Output\n",
    "from plotly.express import line"
   ]
  },
  {
   "cell_type": "code",
   "execution_count": 2,
   "id": "2cd77111",
   "metadata": {},
   "outputs": [
    {
     "data": {
      "text/html": [
       "\n",
       "        <iframe\n",
       "            width=\"100%\"\n",
       "            height=\"650\"\n",
       "            src=\"http://127.0.0.1:8050/\"\n",
       "            frameborder=\"0\"\n",
       "            allowfullscreen\n",
       "            \n",
       "        ></iframe>\n",
       "        "
      ],
      "text/plain": [
       "<IPython.lib.display.IFrame at 0x1a38b1d0220>"
      ]
     },
     "metadata": {},
     "output_type": "display_data"
    }
   ],
   "source": [
    "df = pd.read_csv('formatted_data.csv')\n",
    "df.sort_values(by = \"date\")\n",
    "\n",
    "app = dash.Dash(__name__)\n",
    "\n",
    "def generate_plot(region_data):\n",
    "    generated_plot = line(region_data, x = \"date\", y = \"sales\")\n",
    "    generated_plot.update_layout(\n",
    "        plot_bgcolor='LightBlue',\n",
    "        paper_bgcolor='LightYellow',\n",
    "        font_color='Red'\n",
    "    )\n",
    "    return generated_plot\n",
    "\n",
    "plot_graph = dcc.Graph(\n",
    "    id=\"plot_graph\",\n",
    "    figure=generate_plot(df)\n",
    ")\n",
    "\n",
    "title = html.H1(\n",
    "    \"Pink Morsel Sales Analysis\",\n",
    "    id=\"title\",\n",
    "    style={\n",
    "        \"background-color\": 'LightBlue',\n",
    "        \"color\": 'Red',\n",
    "        \"border-radius\": \"20px\"\n",
    "    }\n",
    ")\n",
    "\n",
    "region = dcc.RadioItems(\n",
    "            [\"all\", \"east\", \"west\", \"north\", \"south\"],\n",
    "            \"all\",\n",
    "            id=\"region_picker\",\n",
    "            inline=True\n",
    "        )\n",
    "\n",
    "regions = html.Div(\n",
    "    [\n",
    "        region\n",
    "    ],\n",
    "    style={\n",
    "        \"font-size\": \"115%\"\n",
    "    }\n",
    ")\n",
    "\n",
    "app.layout = html.Div(\n",
    "    [\n",
    "        title,\n",
    "        plot_graph,\n",
    "        regions\n",
    "    ],\n",
    "    style={\n",
    "        \"textAlign\": \"center\",\n",
    "        \"background-color\": 'LightYellow',\n",
    "        \"border-radius\": \"20px\"\n",
    "    }\n",
    ")\n",
    "\n",
    "@app.callback(\n",
    "    Output(plot_graph, \"figure\"),\n",
    "    Input(region, \"value\")\n",
    ")\n",
    "def update_plot(region):\n",
    "    if region == \"all\":\n",
    "        selected = df\n",
    "    else:\n",
    "         selected = df[df[\"region\"] == region]\n",
    "    figure = generate_plot(selected)\n",
    "    return figure\n",
    "\n",
    "if __name__ == '__main__':\n",
    "    app.run_server()"
   ]
  },
  {
   "cell_type": "code",
   "execution_count": null,
   "id": "ade8fac3",
   "metadata": {},
   "outputs": [],
   "source": []
  }
 ],
 "metadata": {
  "kernelspec": {
   "display_name": "Python 3 (ipykernel)",
   "language": "python",
   "name": "python3"
  },
  "language_info": {
   "codemirror_mode": {
    "name": "ipython",
    "version": 3
   },
   "file_extension": ".py",
   "mimetype": "text/x-python",
   "name": "python",
   "nbconvert_exporter": "python",
   "pygments_lexer": "ipython3",
   "version": "3.9.12"
  }
 },
 "nbformat": 4,
 "nbformat_minor": 5
}
