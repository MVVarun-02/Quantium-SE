{
 "cells": [
  {
   "cell_type": "code",
   "execution_count": 1,
   "id": "b8ffb702",
   "metadata": {},
   "outputs": [],
   "source": [
    "import pandas as pd\n",
    "import dash\n",
    "from dash import dcc\n",
    "from dash import html\n",
    "from plotly.express import line"
   ]
  },
  {
   "cell_type": "code",
   "execution_count": 2,
   "id": "c64bce92",
   "metadata": {},
   "outputs": [
    {
     "data": {
      "text/html": [
       "\n",
       "        <iframe\n",
       "            width=\"100%\"\n",
       "            height=\"650\"\n",
       "            src=\"http://127.0.0.1:8050/\"\n",
       "            frameborder=\"0\"\n",
       "            allowfullscreen\n",
       "            \n",
       "        ></iframe>\n",
       "        "
      ],
      "text/plain": [
       "<IPython.lib.display.IFrame at 0x24a2723dc70>"
      ]
     },
     "metadata": {},
     "output_type": "display_data"
    }
   ],
   "source": [
    "df = pd.read_csv('formatted_data.csv')\n",
    "df.sort_values(by=\"date\")\n",
    "\n",
    "app = dash.Dash(__name__)\n",
    "\n",
    "plot = line(df, x=\"date\", y=\"sales\")\n",
    "plot_graph = dcc.Graph(id=\"plot\", figure=plot)\n",
    "title = html.H1(\"Pink Morsel Sales Analysis\", id=\"title\", style={'textAlign': 'center'})\n",
    "\n",
    "app.layout = html.Div(\n",
    "    [\n",
    "        title,\n",
    "        plot_graph\n",
    "    ]\n",
    ")\n",
    "\n",
    "if __name__ == '__main__':\n",
    "    app.run_server()"
   ]
  },
  {
   "cell_type": "code",
   "execution_count": null,
   "id": "b16f5c7b",
   "metadata": {},
   "outputs": [],
   "source": []
  }
 ],
 "metadata": {
  "kernelspec": {
   "display_name": "Python 3 (ipykernel)",
   "language": "python",
   "name": "python3"
  },
  "language_info": {
   "codemirror_mode": {
    "name": "ipython",
    "version": 3
   },
   "file_extension": ".py",
   "mimetype": "text/x-python",
   "name": "python",
   "nbconvert_exporter": "python",
   "pygments_lexer": "ipython3",
   "version": "3.9.12"
  }
 },
 "nbformat": 4,
 "nbformat_minor": 5
}
