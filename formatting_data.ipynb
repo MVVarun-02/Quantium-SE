{
 "cells": [
  {
   "cell_type": "code",
   "execution_count": 1,
   "id": "a56098c3",
   "metadata": {},
   "outputs": [],
   "source": [
    "import pandas as pd\n",
    "import dash as ds\n",
    "import csv\n",
    "import os"
   ]
  },
  {
   "cell_type": "code",
   "execution_count": 2,
   "id": "234df493",
   "metadata": {},
   "outputs": [],
   "source": [
    "data0 = pd.read_csv(\"./Data/daily_sales_data_0.csv\")\n",
    "data1 = pd.read_csv(\"./Data/daily_sales_data_1.csv\")\n",
    "data2 = pd.read_csv(\"./Data/daily_sales_data_2.csv\")"
   ]
  },
  {
   "cell_type": "code",
   "execution_count": 3,
   "id": "0f05de0d",
   "metadata": {},
   "outputs": [
    {
     "data": {
      "text/plain": [
       "<bound method NDFrame.describe of                 product  price  quantity        date region\n",
       "0           pink morsel  $3.00       546  2018-02-06  north\n",
       "1           pink morsel  $3.00       549  2018-02-06  south\n",
       "2           pink morsel  $3.00       577  2018-02-06   east\n",
       "3           pink morsel  $3.00       519  2018-02-06   west\n",
       "4           gold morsel  $9.99       580  2018-02-06  north\n",
       "...                 ...    ...       ...         ...    ...\n",
       "13715  vermilion morsel  $4.99       504  2019-06-10   west\n",
       "13716      lapis morsel  $1.99       521  2019-06-10  north\n",
       "13717      lapis morsel  $1.99       502  2019-06-10  south\n",
       "13718      lapis morsel  $1.99       536  2019-06-10   east\n",
       "13719      lapis morsel  $1.99       515  2019-06-10   west\n",
       "\n",
       "[13720 rows x 5 columns]>"
      ]
     },
     "execution_count": 3,
     "metadata": {},
     "output_type": "execute_result"
    }
   ],
   "source": [
    "data0.describe"
   ]
  },
  {
   "cell_type": "code",
   "execution_count": 4,
   "id": "a3f70983",
   "metadata": {},
   "outputs": [
    {
     "data": {
      "text/plain": [
       "<bound method NDFrame.describe of                 product  price  quantity        date region\n",
       "0           pink morsel  $3.00       545  2019-06-11  north\n",
       "1           pink morsel  $3.00       521  2019-06-11  south\n",
       "2           pink morsel  $3.00       595  2019-06-11   east\n",
       "3           pink morsel  $3.00       507  2019-06-11   west\n",
       "4           gold morsel  $9.99       529  2019-06-11  north\n",
       "...                 ...    ...       ...         ...    ...\n",
       "13715  vermilion morsel  $4.99       596  2020-10-12   west\n",
       "13716      lapis morsel  $1.99       522  2020-10-12  north\n",
       "13717      lapis morsel  $1.99       600  2020-10-12  south\n",
       "13718      lapis morsel  $1.99       531  2020-10-12   east\n",
       "13719      lapis morsel  $1.99       556  2020-10-12   west\n",
       "\n",
       "[13720 rows x 5 columns]>"
      ]
     },
     "execution_count": 4,
     "metadata": {},
     "output_type": "execute_result"
    }
   ],
   "source": [
    "data1.describe"
   ]
  },
  {
   "cell_type": "code",
   "execution_count": 5,
   "id": "8314206b",
   "metadata": {},
   "outputs": [
    {
     "data": {
      "text/plain": [
       "<bound method NDFrame.describe of                 product  price  quantity        date region\n",
       "0           pink morsel  $3.00       526  2020-10-13  north\n",
       "1           pink morsel  $3.00       546  2020-10-13  south\n",
       "2           pink morsel  $3.00       505  2020-10-13   east\n",
       "3           pink morsel  $3.00       561  2020-10-13   west\n",
       "4           gold morsel  $9.99       553  2020-10-13  north\n",
       "...                 ...    ...       ...         ...    ...\n",
       "13715  vermilion morsel  $4.99       475  2022-02-14   west\n",
       "13716      lapis morsel  $1.99       425  2022-02-14  north\n",
       "13717      lapis morsel  $1.99       454  2022-02-14  south\n",
       "13718      lapis morsel  $1.99       483  2022-02-14   east\n",
       "13719      lapis morsel  $1.99       427  2022-02-14   west\n",
       "\n",
       "[13720 rows x 5 columns]>"
      ]
     },
     "execution_count": 5,
     "metadata": {},
     "output_type": "execute_result"
    }
   ],
   "source": [
    "data2.describe"
   ]
  },
  {
   "cell_type": "code",
   "execution_count": 6,
   "id": "a3155e8b",
   "metadata": {},
   "outputs": [],
   "source": [
    "file_paths = ['./Data/daily_sales_data_0.csv',\n",
    "                  './Data/daily_sales_data_1.csv',\n",
    "                  './Data/daily_sales_data_2.csv']\n",
    "output_path = \"./formatted_data.csv\"\n",
    "\n",
    "with open(output_path, \"w\", newline='') as output_file:\n",
    "    writer = csv.writer(output_file)\n",
    "    header = [\"sales\", \"date\", \"region\"]\n",
    "    writer.writerow(header)\n",
    "\n",
    "    for file_name in file_paths:\n",
    "        with open(file_name, \"r\", newline='') as input_file:\n",
    "            reader = csv.reader(input_file)\n",
    "            next(reader)\n",
    "            for input_row in reader:\n",
    "                product = input_row[0]\n",
    "                raw_price = input_row[1]\n",
    "                quantity = input_row[2]\n",
    "                transaction_date = input_row[3]\n",
    "                region = input_row[4]\n",
    "\n",
    "                if product == \"pink morsel\":\n",
    "                    price = float(raw_price[1:])\n",
    "                    sale = price * int(quantity)\n",
    "                    output_row = [sale, transaction_date, region]\n",
    "                    writer.writerow(output_row)"
   ]
  },
  {
   "cell_type": "code",
   "execution_count": 7,
   "id": "d66b3a5c",
   "metadata": {},
   "outputs": [
    {
     "data": {
      "text/plain": [
       "<bound method NDFrame.describe of        sales        date region\n",
       "0     1638.0  2018-02-06  north\n",
       "1     1647.0  2018-02-06  south\n",
       "2     1731.0  2018-02-06   east\n",
       "3     1557.0  2018-02-06   west\n",
       "4     1587.0  2018-02-07  north\n",
       "...      ...         ...    ...\n",
       "5875  2390.0  2022-02-13   west\n",
       "5876  2035.0  2022-02-14  north\n",
       "5877  2465.0  2022-02-14  south\n",
       "5878  2500.0  2022-02-14   east\n",
       "5879  2115.0  2022-02-14   west\n",
       "\n",
       "[5880 rows x 3 columns]>"
      ]
     },
     "execution_count": 7,
     "metadata": {},
     "output_type": "execute_result"
    }
   ],
   "source": [
    "formatted_data = pd.read_csv(\"formatted_data.csv\")\n",
    "formatted_data.describe"
   ]
  },
  {
   "cell_type": "code",
   "execution_count": 8,
   "id": "96434a24",
   "metadata": {},
   "outputs": [
    {
     "data": {
      "text/html": [
       "<div>\n",
       "<style scoped>\n",
       "    .dataframe tbody tr th:only-of-type {\n",
       "        vertical-align: middle;\n",
       "    }\n",
       "\n",
       "    .dataframe tbody tr th {\n",
       "        vertical-align: top;\n",
       "    }\n",
       "\n",
       "    .dataframe thead th {\n",
       "        text-align: right;\n",
       "    }\n",
       "</style>\n",
       "<table border=\"1\" class=\"dataframe\">\n",
       "  <thead>\n",
       "    <tr style=\"text-align: right;\">\n",
       "      <th></th>\n",
       "      <th>sales</th>\n",
       "      <th>date</th>\n",
       "      <th>region</th>\n",
       "    </tr>\n",
       "  </thead>\n",
       "  <tbody>\n",
       "    <tr>\n",
       "      <th>0</th>\n",
       "      <td>1638.0</td>\n",
       "      <td>2018-02-06</td>\n",
       "      <td>north</td>\n",
       "    </tr>\n",
       "    <tr>\n",
       "      <th>1</th>\n",
       "      <td>1647.0</td>\n",
       "      <td>2018-02-06</td>\n",
       "      <td>south</td>\n",
       "    </tr>\n",
       "    <tr>\n",
       "      <th>2</th>\n",
       "      <td>1731.0</td>\n",
       "      <td>2018-02-06</td>\n",
       "      <td>east</td>\n",
       "    </tr>\n",
       "    <tr>\n",
       "      <th>3</th>\n",
       "      <td>1557.0</td>\n",
       "      <td>2018-02-06</td>\n",
       "      <td>west</td>\n",
       "    </tr>\n",
       "    <tr>\n",
       "      <th>4</th>\n",
       "      <td>1587.0</td>\n",
       "      <td>2018-02-07</td>\n",
       "      <td>north</td>\n",
       "    </tr>\n",
       "  </tbody>\n",
       "</table>\n",
       "</div>"
      ],
      "text/plain": [
       "    sales        date region\n",
       "0  1638.0  2018-02-06  north\n",
       "1  1647.0  2018-02-06  south\n",
       "2  1731.0  2018-02-06   east\n",
       "3  1557.0  2018-02-06   west\n",
       "4  1587.0  2018-02-07  north"
      ]
     },
     "execution_count": 8,
     "metadata": {},
     "output_type": "execute_result"
    }
   ],
   "source": [
    "formatted_data.head()"
   ]
  },
  {
   "cell_type": "code",
   "execution_count": null,
   "id": "1022cae5",
   "metadata": {},
   "outputs": [],
   "source": []
  }
 ],
 "metadata": {
  "kernelspec": {
   "display_name": "Python 3 (ipykernel)",
   "language": "python",
   "name": "python3"
  },
  "language_info": {
   "codemirror_mode": {
    "name": "ipython",
    "version": 3
   },
   "file_extension": ".py",
   "mimetype": "text/x-python",
   "name": "python",
   "nbconvert_exporter": "python",
   "pygments_lexer": "ipython3",
   "version": "3.9.12"
  }
 },
 "nbformat": 4,
 "nbformat_minor": 5
}
